{
 "cells": [
  {
   "cell_type": "code",
   "execution_count": 43,
   "metadata": {},
   "outputs": [],
   "source": [
    "import pandas as pd\n",
    "import numpy as np\n",
    "import matplotlib\n",
    "import seaborn as sns\n",
    "import matplotlib.pyplot as plt \n",
    "from datetime import datetime\n",
    "from fbprophet import Prophet\n",
    "from fbprophet.plot import add_changepoints_to_plot\n",
    "import time\n",
    "from tqdm import tqdm"
   ]
  },
  {
   "cell_type": "code",
   "execution_count": 49,
   "metadata": {},
   "outputs": [],
   "source": [
    "#取数据集\n",
    "dataset = pd.DataFrame()\n",
    "f = open('dataset_campus_competition.txt',mode='r')\n",
    "s = f.readline()\n",
    "while len(s)>0:\n",
    "    w = [];\n",
    "    for x in s[s.find('\"')+1:s.find('\\n')-1].split(','):\n",
    "        if x == \"NA\":\n",
    "            w.append(0)\n",
    "        else:\n",
    "            w.append(float(x));\n",
    "    dataset[s[:s.find('\"')-1]] = w\n",
    "    s = f.readline()\n",
    "f.close()"
   ]
  },
  {
   "cell_type": "code",
   "execution_count": 50,
   "metadata": {},
   "outputs": [],
   "source": [
    "#设置时间项，假设是从2020年1月23日10am 武汉封城开始后的7天\n",
    "b = datetime(2020,1,23, 10,0,0)\n",
    "ind = []\n",
    "for x in range(168):\n",
    "    bi = b + pd.Timedelta(hours = x)\n",
    "    ind.append(bi)\n",
    "times = pd.DataFrame({'DS':ind})"
   ]
  },
  {
   "cell_type": "code",
   "execution_count": 73,
   "metadata": {},
   "outputs": [],
   "source": [
    "#使用先知进行预测\n",
    "def prophetprediction(s):\n",
    "    myall = pd.DataFrame({'DS':ind,'Y':dataset.iloc[0:,s]})\n",
    "    myall = myall.rename(columns={'DS':'ds', 'Y':'y'})\n",
    "    mymean = myall['y'].mean()\n",
    "    mystd = myall['y'].std()\n",
    "    myall['y'] = (myall['y'] - mymean) / (mystd)\n",
    "    train = myall.iloc[:,:]\n",
    "    m = Prophet(weekly_seasonality=False,yearly_seasonality=False,daily_seasonality=False)\n",
    "    m.add_seasonality(name='daily', period=1, fourier_order=80)\n",
    "    #m = Prophet(n_changepoints=1)\n",
    "    m.fit(train)\n",
    "    future = m.make_future_dataframe(periods=72, freq='H')\n",
    "    forecast = m.predict(future)\n",
    "    forecast['yhat'] = forecast['yhat']*mystd + mymean\n",
    "    #fig1 = m.plot(forecast)\n",
    "    out = pd.DataFrame({dataset.columns[s]:forecast['yhat'][-72:]})\n",
    "    return out"
   ]
  },
  {
   "cell_type": "code",
   "execution_count": 76,
   "metadata": {},
   "outputs": [
    {
     "name": "stderr",
     "output_type": "stream",
     "text": [
      "100%|██████████| 120/120 [06:46<00:00,  3.38s/it]\n"
     ]
    }
   ],
   "source": [
    "#写入文件\n",
    "file_handle = open('prediction.txt',mode='w')\n",
    "for s in tqdm(range(120)):\n",
    "    wanna = prophetprediction(s)\n",
    "    file_handle.write(wanna.columns.tolist()[0]+ ' \"')\n",
    "    for i in wanna.iloc[:,0].tolist():\n",
    "        if i < 0:\n",
    "            i = 0\n",
    "        if i != wanna.iloc[:,0].tolist()[len(wanna.iloc[:,0].tolist())-1]:\n",
    "            file_handle.write('%.2f,'%(i))\n",
    "        else:\n",
    "            file_handle.write('%.2f'%(i))\n",
    "    file_handle.write('\"\\n')\n",
    "file_handle.close()"
   ]
  },
  {
   "cell_type": "code",
   "execution_count": null,
   "metadata": {},
   "outputs": [],
   "source": []
  }
 ],
 "metadata": {
  "kernelspec": {
   "display_name": "Python 3",
   "language": "python",
   "name": "python3"
  },
  "language_info": {
   "codemirror_mode": {
    "name": "ipython",
    "version": 3
   },
   "file_extension": ".py",
   "mimetype": "text/x-python",
   "name": "python",
   "nbconvert_exporter": "python",
   "pygments_lexer": "ipython3",
   "version": "3.6.9"
  }
 },
 "nbformat": 4,
 "nbformat_minor": 4
}
